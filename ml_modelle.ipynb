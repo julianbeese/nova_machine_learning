{
 "cells": [
  {
   "cell_type": "code",
   "id": "initial_id",
   "metadata": {
    "collapsed": true,
    "ExecuteTime": {
     "end_time": "2025-02-21T17:20:59.521564Z",
     "start_time": "2025-02-21T17:20:59.502768Z"
    }
   },
   "source": [
    "from Setup import *\n",
    "\n",
    "import pandas as pd\n",
    "from sklearn.linear_model import Ridge, Lasso, ElasticNet\n",
    "from sklearn.ensemble import RandomForestClassifier,RandomForestRegressor\n",
    "import xgboost as xgb\n",
    "from sklearn.model_selection import StratifiedKFold, GridSearchCV\n",
    "from sklearn.metrics import mean_absolute_error, mean_squared_error, r2_score\n",
    "from sklearn.preprocessing import StandardScaler\n",
    "from sklearn.model_selection import train_test_split"
   ],
   "outputs": [],
   "execution_count": 2
  },
  {
   "metadata": {},
   "cell_type": "markdown",
   "source": "Data Loading",
   "id": "b1cb86a58d434c00"
  },
  {
   "metadata": {},
   "cell_type": "code",
   "outputs": [],
   "execution_count": null,
   "source": [
    "df_train = pd.read_csv(\"C:/Users/maxpi/Desktop/Universität/Machine Learning/groupproject/archive (2)/train.csv\") # insert file path\n",
    "df_test = pd.read_csv(\"C:/Users/maxpi/Desktop/Universität/Machine Learning/groupproject/archive (2)/test.csv\") # insert file path\n",
    "\n",
    "df = pd.concat([df_test,df_train], ignore_index=True)\n",
    "\n",
    "df.columns = df.columns.str.strip().str.lower().str.replace(' ', '_')"
   ],
   "id": "4c7a09baa0f076a9"
  },
  {
   "metadata": {},
   "cell_type": "markdown",
   "source": "Preprocessing",
   "id": "18ee771203af0ba4"
  },
  {
   "metadata": {},
   "cell_type": "code",
   "outputs": [],
   "execution_count": null,
   "source": [
    "# Function to extract the numeric part of a string\n",
    "def extract_number(x):\n",
    "    # Use regex to find the first occurrence of a float or integer in the string\n",
    "    import re\n",
    "    match = re.search(r'(\\d+\\.?\\d*)', str(x))\n",
    "    return match.group(1) if match else None\n",
    "\n",
    "# Clean the engine_volume column: extract the number and convert to float\n",
    "df['engine_volume'] = df['engine_volume'].apply(extract_number).astype(float)\n",
    "\n",
    "# Clean the mileage column: extract the number and convert to float\n",
    "df['mileage'] = df['mileage'].apply(extract_number).astype(float)\n",
    "\n",
    "# Delete outliers\n",
    "# Delete all entries with price > 1.000.000, price < 100, no price listed, or cylinders > 16\n",
    "conditions = ((df[\"price\"] > 1000000) | (df[\"cylinders\"] > 16) | (df[\"price\"]<100) | (df[\"price\"].isnull()) | (df[\"mileage\"] > 1000000))\n",
    "df_deleted = df[conditions].copy()\n",
    "df = df[~conditions].copy()\n",
    "# Delete Columns\n",
    "df.drop(columns=['doors'], inplace=True)\n",
    "df.drop(columns=['id'], inplace=True)\n",
    "df.drop(columns=['levy'], inplace=True)\n",
    "# Drop Duplicates\n",
    "df = df.drop_duplicates()\n"
   ],
   "id": "43b6bbdea465f738"
  },
  {
   "metadata": {},
   "cell_type": "code",
   "outputs": [],
   "execution_count": null,
   "source": [
    "# Define functions that show multicollinearity\n",
    "columns = [\"cylinders\"]\n",
    "\n",
    "# Define columns with categoric variables\n",
    "cat_columns = ['manufacturer', 'model', 'category', 'leather_interior', 'fuel_type',\n",
    "                    'gear_box_type', 'drive_wheels', 'wheel', 'color']\n",
    "\n",
    "X, y = preprocessing(df, 'price', columns, cat_columns)\n",
    "\n",
    "#Split into training and test data\n",
    "X_train, X_test, y_train, y_test = train_test_split(X, y, test_size=0.2, random_state=42)\n",
    "\n",
    "# Stardardizing\n",
    "scaler = StandardScaler()\n",
    "x_train = scaler.fit_transform(X_train)\n",
    "x_test = scaler.transform(X_test)\n",
    "\n",
    "# Convert back to DataFrame using original feature names\n",
    "x_train = pd.DataFrame(x_train, columns=X_train.columns)\n",
    "x_test = pd.DataFrame(x_test, columns=X_test.columns)\n",
    "\n",
    "# Display first few rows\n",
    "x_train.head()"
   ],
   "id": "117d75b3b4bbacd9"
  },
  {
   "metadata": {},
   "cell_type": "markdown",
   "source": "Run Models",
   "id": "f987e69a88f3a23e"
  },
  {
   "metadata": {},
   "cell_type": "code",
   "outputs": [],
   "execution_count": null,
   "source": [
    "# Run Ranfdom Forest Model\n",
    "#r_forest(x_train, y_train, x_test, y_test)"
   ],
   "id": "cf187379e8ea070"
  },
  {
   "metadata": {},
   "cell_type": "code",
   "outputs": [],
   "execution_count": null,
   "source": [
    "# Run Lasso Regression Model\n",
    "#lasso(x_train, y_train, x_test, y_test)"
   ],
   "id": "14c09a348b6e2591"
  },
  {
   "metadata": {},
   "cell_type": "code",
   "outputs": [],
   "execution_count": null,
   "source": [
    "# Run Elastic Net Regression Model\n",
    "#(x_train, y_train, x_test, y_test)"
   ],
   "id": "206777a2221bf365"
  },
  {
   "metadata": {},
   "cell_type": "code",
   "outputs": [],
   "execution_count": null,
   "source": [
    "# Run XGBoost Regression Model\n",
    "#xgboost(x_train, y_train, x_test, y_test)"
   ],
   "id": "5e26c5c236759e0e"
  }
 ],
 "metadata": {
  "kernelspec": {
   "display_name": "Python 3",
   "language": "python",
   "name": "python3"
  },
  "language_info": {
   "codemirror_mode": {
    "name": "ipython",
    "version": 2
   },
   "file_extension": ".py",
   "mimetype": "text/x-python",
   "name": "python",
   "nbconvert_exporter": "python",
   "pygments_lexer": "ipython2",
   "version": "2.7.6"
  }
 },
 "nbformat": 4,
 "nbformat_minor": 5
}
