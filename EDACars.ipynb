{
 "cells": [
  {
   "metadata": {},
   "cell_type": "markdown",
   "source": "# EDA",
   "id": "15f3cc58720fe66f"
  },
  {
   "metadata": {
    "ExecuteTime": {
     "end_time": "2025-02-28T12:06:36.223406Z",
     "start_time": "2025-02-28T12:06:36.102851Z"
    }
   },
   "cell_type": "code",
   "source": [
    "import pandas as pd\n",
    "import numpy as np\n",
    "import matplotlib.pyplot as plt\n",
    "import seaborn as sns\n",
    "import plotly.express as px\n",
    "import plotly.graph_objects as go\n",
    "\n",
    "df_train = pd.read_csv(\"C:/Users/maxpi/Desktop/Universität/Machine Learning/groupproject/archive (2)/train.csv\") # insert file path\n",
    "df_test = pd.read_csv(\"C:/Users/maxpi/Desktop/Universität/Machine Learning/groupproject/archive (2)/test.csv\") # insert file path\n",
    "\n",
    "df = pd.concat([df_test,df_train], ignore_index=True)\n",
    "\n",
    "df.columns = df.columns.str.strip().str.lower().str.replace(' ', '_')"
   ],
   "id": "f2b490d1e7e6bfe2",
   "outputs": [],
   "execution_count": 33
  },
  {
   "metadata": {
    "ExecuteTime": {
     "end_time": "2025-02-28T12:06:45.011110Z",
     "start_time": "2025-02-28T12:06:45.002042Z"
    }
   },
   "cell_type": "code",
   "source": "df.columns",
   "id": "3cca9cd88b3fb8f9",
   "outputs": [
    {
     "data": {
      "text/plain": [
       "Index(['id', 'levy', 'manufacturer', 'model', 'prod._year', 'category',\n",
       "       'leather_interior', 'fuel_type', 'engine_volume', 'mileage',\n",
       "       'cylinders', 'gear_box_type', 'drive_wheels', 'doors', 'wheel', 'color',\n",
       "       'airbags', 'price'],\n",
       "      dtype='object')"
      ]
     },
     "execution_count": 34,
     "metadata": {},
     "output_type": "execute_result"
    }
   ],
   "execution_count": 34
  },
  {
   "metadata": {},
   "cell_type": "markdown",
   "source": "#### Numerical Overview",
   "id": "3f1e5cc32445ac2f"
  },
  {
   "metadata": {
    "ExecuteTime": {
     "end_time": "2025-02-28T11:50:00.761437Z",
     "start_time": "2025-02-28T11:50:00.734616Z"
    }
   },
   "cell_type": "code",
   "source": "print(df.describe())",
   "id": "5c722c40ea1f194f",
   "outputs": [
    {
     "name": "stdout",
     "output_type": "stream",
     "text": [
      "                 id    prod._year     cylinders       airbags         price\n",
      "count  2.748200e+04  27482.000000  27482.000000  27482.000000  1.923700e+04\n",
      "mean   4.557857e+07   2010.912452      4.593734      6.563569  1.855593e+04\n",
      "std    9.244972e+05      5.632865      1.413918      4.329256  1.905813e+05\n",
      "min    2.074688e+07   1939.000000      1.000000      0.000000  1.000000e+00\n",
      "25%    4.569808e+07   2009.000000      4.000000      4.000000  5.331000e+03\n",
      "50%    4.577207e+07   2012.000000      4.000000      6.000000  1.317200e+04\n",
      "75%    4.580197e+07   2015.000000      4.000000     12.000000  2.207500e+04\n",
      "max    4.581665e+07   2020.000000    127.000000     16.000000  2.630750e+07\n"
     ]
    }
   ],
   "execution_count": 2
  },
  {
   "metadata": {},
   "cell_type": "markdown",
   "source": "#### Display The First 5 Rows",
   "id": "c411a74588c1246e"
  },
  {
   "metadata": {
    "ExecuteTime": {
     "end_time": "2025-02-28T11:50:00.856957Z",
     "start_time": "2025-02-28T11:50:00.850208Z"
    }
   },
   "cell_type": "code",
   "source": "print(df.head())",
   "id": "7c7e2b8cf54851ad",
   "outputs": [
    {
     "name": "stdout",
     "output_type": "stream",
     "text": [
      "         id levy manufacturer   model  prod._year   category leather_interior  \\\n",
      "0  44020629    -   VOLKSWAGEN    Golf        2012  Hatchback               No   \n",
      "1  45784798    -      HYUNDAI  Sonata        2012      Sedan              Yes   \n",
      "2  45800257    -       NISSAN   Tiida        2005      Sedan               No   \n",
      "3  45797981  975        VOLVO    XC90        2012       Jeep              Yes   \n",
      "4  45814303    -         OPEL   Astra        1993  Hatchback               No   \n",
      "\n",
      "  fuel_type engine_volume    mileage  cylinders gear_box_type drive_wheels  \\\n",
      "0    Diesel     2.0 Turbo       0 km        4.0        Manual        Front   \n",
      "1    Petrol           2.4   26000 km        4.0     Tiptronic        Front   \n",
      "2    Petrol           1.5  168000 km        4.0     Automatic        Front   \n",
      "3    Petrol           3.2  143000 km        6.0     Automatic          4x4   \n",
      "4    Petrol           1.6  200000 km        4.0        Manual        Front   \n",
      "\n",
      "    doors             wheel     color  airbags  price  \n",
      "0  02-Mar        Left wheel      Grey       10    NaN  \n",
      "1  04-May        Left wheel      Grey       10    NaN  \n",
      "2  04-May  Right-hand drive  Sky blue        8    NaN  \n",
      "3  04-May        Left wheel      Blue       12    NaN  \n",
      "4  04-May        Left wheel     Black        0    NaN  \n"
     ]
    }
   ],
   "execution_count": 3
  },
  {
   "metadata": {},
   "cell_type": "markdown",
   "source": "#### Column Information and Shape",
   "id": "ccab78720d47fdda"
  },
  {
   "metadata": {
    "ExecuteTime": {
     "end_time": "2025-02-28T11:50:00.891148Z",
     "start_time": "2025-02-28T11:50:00.871840Z"
    }
   },
   "cell_type": "code",
   "source": [
    "print(df.info())\n",
    "print(\"Dataframe Shape:\",df.shape)"
   ],
   "id": "74637b1ca5eb2550",
   "outputs": [
    {
     "name": "stdout",
     "output_type": "stream",
     "text": [
      "<class 'pandas.core.frame.DataFrame'>\n",
      "RangeIndex: 27482 entries, 0 to 27481\n",
      "Data columns (total 18 columns):\n",
      " #   Column            Non-Null Count  Dtype  \n",
      "---  ------            --------------  -----  \n",
      " 0   id                27482 non-null  int64  \n",
      " 1   levy              27482 non-null  object \n",
      " 2   manufacturer      27482 non-null  object \n",
      " 3   model             27482 non-null  object \n",
      " 4   prod._year        27482 non-null  int64  \n",
      " 5   category          27482 non-null  object \n",
      " 6   leather_interior  27482 non-null  object \n",
      " 7   fuel_type         27482 non-null  object \n",
      " 8   engine_volume     27482 non-null  object \n",
      " 9   mileage           27482 non-null  object \n",
      " 10  cylinders         27482 non-null  float64\n",
      " 11  gear_box_type     27482 non-null  object \n",
      " 12  drive_wheels      27482 non-null  object \n",
      " 13  doors             27482 non-null  object \n",
      " 14  wheel             27482 non-null  object \n",
      " 15  color             27482 non-null  object \n",
      " 16  airbags           27482 non-null  int64  \n",
      " 17  price             19237 non-null  float64\n",
      "dtypes: float64(2), int64(3), object(13)\n",
      "memory usage: 3.8+ MB\n",
      "None\n",
      "Dataframe Shape: (27482, 18)\n"
     ]
    }
   ],
   "execution_count": 4
  },
  {
   "metadata": {},
   "cell_type": "markdown",
   "source": "#### MissingValues",
   "id": "63f89f5e02799ae2"
  },
  {
   "metadata": {
    "ExecuteTime": {
     "end_time": "2025-02-28T11:50:00.920318Z",
     "start_time": "2025-02-28T11:50:00.907047Z"
    }
   },
   "cell_type": "code",
   "source": [
    "print(\"\\nMissing Values by Column:\")\n",
    "print(df.isnull().sum())"
   ],
   "id": "2e7667a705a35168",
   "outputs": [
    {
     "name": "stdout",
     "output_type": "stream",
     "text": [
      "\n",
      "Missing Values by Column:\n",
      "id                     0\n",
      "levy                   0\n",
      "manufacturer           0\n",
      "model                  0\n",
      "prod._year             0\n",
      "category               0\n",
      "leather_interior       0\n",
      "fuel_type              0\n",
      "engine_volume          0\n",
      "mileage                0\n",
      "cylinders              0\n",
      "gear_box_type          0\n",
      "drive_wheels           0\n",
      "doors                  0\n",
      "wheel                  0\n",
      "color                  0\n",
      "airbags                0\n",
      "price               8245\n",
      "dtype: int64\n"
     ]
    }
   ],
   "execution_count": 5
  },
  {
   "metadata": {},
   "cell_type": "markdown",
   "source": [
    "### Data Cleaning\n",
    "\n",
    "Some rows include add-ons like \"Turbo\" in the column engine volume. In order to have a more consistent dataset, these added comments are deleted.\n",
    "The column mileage includes the metric \"km\", to enable further computation, this is deleted and only the value is left."
   ],
   "id": "24638fd9faef1c93"
  },
  {
   "metadata": {
    "ExecuteTime": {
     "end_time": "2025-02-28T11:50:01.002666Z",
     "start_time": "2025-02-28T11:50:00.935248Z"
    }
   },
   "cell_type": "code",
   "source": [
    "# Function to extract the numeric part of a string\n",
    "def extract_number(x):\n",
    "    # Use regex to find the first occurrence of a float or integer in the string\n",
    "    import re\n",
    "    match = re.search(r'(\\d+\\.?\\d*)', str(x))\n",
    "    return match.group(1) if match else None\n",
    "\n",
    "# Clean the engine_volume column: extract the number and convert to float\n",
    "df['engine_volume'] = df['engine_volume'].apply(extract_number).astype(float)\n",
    "\n",
    "# Clean the mileage column: extract the number and convert to float\n",
    "df['mileage'] = df['mileage'].apply(extract_number).astype(float)\n"
   ],
   "id": "c152768dca1ffa53",
   "outputs": [],
   "execution_count": 6
  },
  {
   "metadata": {},
   "cell_type": "markdown",
   "source": [
    "#### Delete Outliers\n",
    "\n",
    "The previous analysis showed some extreme values. To make sure all data in the dataset is insightful, rows with the following values are deleted:\n",
    "- Price more than 1.000.000\n",
    "- Price under 100\n",
    "- Price not listed\n",
    "- More than 16 cylinders\n",
    "- Mileage more than 1.000.000"
   ],
   "id": "a0f805ad8b262868"
  },
  {
   "metadata": {
    "ExecuteTime": {
     "end_time": "2025-02-28T11:50:01.042111Z",
     "start_time": "2025-02-28T11:50:01.018712Z"
    }
   },
   "cell_type": "code",
   "source": [
    "# Delete outliers\n",
    "# Delete all entries with price > 1.000.000, price < 100, no price listed, or cylinders > 16\n",
    "conditions = ((df[\"price\"] > 1000000) | (df[\"cylinders\"] > 16) | (df[\"price\"]<100) | (df[\"price\"].isnull()) | (df[\"mileage\"] > 1000000))\n",
    "df_deleted = df[conditions].copy()\n",
    "print(df_deleted)\n",
    "\n",
    "df = df[~conditions].copy()\n",
    "print(df.shape)"
   ],
   "id": "8ca04301347ec60b",
   "outputs": [
    {
     "name": "stdout",
     "output_type": "stream",
     "text": [
      "             id  levy   manufacturer    model  prod._year   category  \\\n",
      "0      44020629     -     VOLKSWAGEN     Golf        2012  Hatchback   \n",
      "1      45784798     -        HYUNDAI   Sonata        2012      Sedan   \n",
      "2      45800257     -         NISSAN    Tiida        2005      Sedan   \n",
      "3      45797981   975          VOLVO     XC90        2012       Jeep   \n",
      "4      45814303     -           OPEL    Astra        1993  Hatchback   \n",
      "...         ...   ...            ...      ...         ...        ...   \n",
      "27409  45040734     -         TOYOTA    Prius        2013      Sedan   \n",
      "27412  45799423  1995           FORD  Transit        2003   Microbus   \n",
      "27444  45761409     -  MERCEDES-BENZ    C 180        1995      Sedan   \n",
      "27463  45748699     -         NISSAN     Note        2006  Hatchback   \n",
      "27474  39977395     -         TOYOTA    Prius        2008  Hatchback   \n",
      "\n",
      "      leather_interior fuel_type  engine_volume       mileage  cylinders  \\\n",
      "0                   No    Diesel            2.0  0.000000e+00        4.0   \n",
      "1                  Yes    Petrol            2.4  2.600000e+04        4.0   \n",
      "2                   No    Petrol            1.5  1.680000e+05        4.0   \n",
      "3                  Yes    Petrol            3.2  1.430000e+05        6.0   \n",
      "4                   No    Petrol            1.6  2.000000e+05        4.0   \n",
      "...                ...       ...            ...           ...        ...   \n",
      "27409               No    Hybrid            1.8  1.500000e+05        4.0   \n",
      "27412               No    Diesel            2.4  2.147484e+09        4.0   \n",
      "27444               No    Petrol            1.8  1.111111e+09        5.0   \n",
      "27463               No    Petrol            1.3  0.000000e+00        4.0   \n",
      "27474               No    Hybrid            1.5  1.500000e+05        4.0   \n",
      "\n",
      "      gear_box_type drive_wheels   doors             wheel     color  airbags  \\\n",
      "0            Manual        Front  02-Mar        Left wheel      Grey       10   \n",
      "1         Tiptronic        Front  04-May        Left wheel      Grey       10   \n",
      "2         Automatic        Front  04-May  Right-hand drive  Sky blue        8   \n",
      "3         Automatic          4x4  04-May        Left wheel      Blue       12   \n",
      "4            Manual        Front  04-May        Left wheel     Black        0   \n",
      "...             ...          ...     ...               ...       ...      ...   \n",
      "27409     Automatic        Front  04-May        Left wheel     White        8   \n",
      "27412        Manual        Front  02-Mar        Left wheel     White        2   \n",
      "27444        Manual         Rear  04-May  Right-hand drive     Green        2   \n",
      "27463     Automatic        Front  04-May  Right-hand drive     Green        9   \n",
      "27474     Automatic        Front  04-May        Left wheel    Silver        6   \n",
      "\n",
      "         price  \n",
      "0          NaN  \n",
      "1          NaN  \n",
      "2          NaN  \n",
      "3          NaN  \n",
      "4          NaN  \n",
      "...        ...  \n",
      "27409     60.0  \n",
      "27412  18817.0  \n",
      "27444   3763.0  \n",
      "27463     30.0  \n",
      "27474     50.0  \n",
      "\n",
      "[8672 rows x 18 columns]\n",
      "(18810, 18)\n"
     ]
    }
   ],
   "execution_count": 7
  },
  {
   "metadata": {},
   "cell_type": "markdown",
   "source": [
    "#### Delete \"Doors\"-Column\n",
    "\n",
    "The column doors is flawful and has values which are not insightful, thus it will be deleted."
   ],
   "id": "d6b3df0bc0adc836"
  },
  {
   "metadata": {
    "ExecuteTime": {
     "end_time": "2025-02-28T11:50:01.072722Z",
     "start_time": "2025-02-28T11:50:01.060013Z"
    }
   },
   "cell_type": "code",
   "source": [
    "print(df[\"doors\"].value_counts())\n",
    "df[\"doors\"] = df[\"doors\"].replace({'04-May' : 5, '>5' : 5, '02-Mar' : 3} )\n",
    "print(df[\"doors\"].value_counts())"
   ],
   "id": "59ab03fcacf4638c",
   "outputs": [
    {
     "name": "stdout",
     "output_type": "stream",
     "text": [
      "doors\n",
      "04-May    17924\n",
      "02-Mar      765\n",
      ">5          121\n",
      "Name: count, dtype: int64\n",
      "doors\n",
      "5    18045\n",
      "3      765\n",
      "Name: count, dtype: int64\n"
     ]
    },
    {
     "name": "stderr",
     "output_type": "stream",
     "text": [
      "C:\\Users\\maxpi\\AppData\\Local\\Temp\\ipykernel_21396\\3703098987.py:2: FutureWarning: Downcasting behavior in `replace` is deprecated and will be removed in a future version. To retain the old behavior, explicitly call `result.infer_objects(copy=False)`. To opt-in to the future behavior, set `pd.set_option('future.no_silent_downcasting', True)`\n",
      "  df[\"doors\"] = df[\"doors\"].replace({'04-May' : 5, '>5' : 5, '02-Mar' : 3} )\n"
     ]
    }
   ],
   "execution_count": 8
  },
  {
   "metadata": {},
   "cell_type": "markdown",
   "source": [
    "#### Duplicates\n",
    "\n",
    "Checking for and deleting of duplicates"
   ],
   "id": "4f7a0329ed595f81"
  },
  {
   "metadata": {
    "ExecuteTime": {
     "end_time": "2025-02-28T11:50:01.109192Z",
     "start_time": "2025-02-28T11:50:01.090199Z"
    }
   },
   "cell_type": "code",
   "source": [
    "# Check for duplicate rows\n",
    "duplicates = df.duplicated().sum()\n",
    "print(\"\\nNumber of duplicate rows:\", duplicates)\n"
   ],
   "id": "fb7ca3c2ba240443",
   "outputs": [
    {
     "name": "stdout",
     "output_type": "stream",
     "text": [
      "\n",
      "Number of duplicate rows: 305\n"
     ]
    }
   ],
   "execution_count": 9
  },
  {
   "metadata": {
    "ExecuteTime": {
     "end_time": "2025-02-28T11:50:01.168444Z",
     "start_time": "2025-02-28T11:50:01.137816Z"
    }
   },
   "cell_type": "code",
   "source": [
    "df = df.drop_duplicates()\n",
    "duplicates = df.duplicated().sum()\n",
    "print(\"\\nNumber of duplicate rows:\", duplicates)"
   ],
   "id": "1dbeca4ce8d5b789",
   "outputs": [
    {
     "name": "stdout",
     "output_type": "stream",
     "text": [
      "\n",
      "Number of duplicate rows: 0\n"
     ]
    }
   ],
   "execution_count": 10
  },
  {
   "metadata": {},
   "cell_type": "markdown",
   "source": [
    "#### Missing Values 2\n",
    "\n",
    "Check if the previous steps eliminated all rows with missing values"
   ],
   "id": "2207fcf3d329b5c6"
  },
  {
   "metadata": {
    "ExecuteTime": {
     "end_time": "2025-02-28T11:50:01.197085Z",
     "start_time": "2025-02-28T11:50:01.186019Z"
    }
   },
   "cell_type": "code",
   "source": [
    "print(\"\\nMissing Values by Column:\")\n",
    "print(df.isnull().sum())"
   ],
   "id": "6649293b7070082d",
   "outputs": [
    {
     "name": "stdout",
     "output_type": "stream",
     "text": [
      "\n",
      "Missing Values by Column:\n",
      "id                  0\n",
      "levy                0\n",
      "manufacturer        0\n",
      "model               0\n",
      "prod._year          0\n",
      "category            0\n",
      "leather_interior    0\n",
      "fuel_type           0\n",
      "engine_volume       0\n",
      "mileage             0\n",
      "cylinders           0\n",
      "gear_box_type       0\n",
      "drive_wheels        0\n",
      "doors               0\n",
      "wheel               0\n",
      "color               0\n",
      "airbags             0\n",
      "price               0\n",
      "dtype: int64\n"
     ]
    }
   ],
   "execution_count": 11
  },
  {
   "metadata": {
    "ExecuteTime": {
     "end_time": "2025-02-28T11:50:01.220249Z",
     "start_time": "2025-02-28T11:50:01.216347Z"
    }
   },
   "cell_type": "code",
   "source": [
    "# Set visualization style\n",
    "sns.set(style=\"whitegrid\")\n",
    "plt.rcParams['figure.figsize'] = (10, 6)\n",
    "\n",
    "# Define lists of numeric and categorical columns for analysis\n",
    "numeric_cols = ['prod._year','engine_volume', 'mileage', 'cylinders', 'airbags', 'price']\n",
    "categorical_cols = ['manufacturer', 'model', 'category', 'leather_interior', 'fuel_type',\n",
    "                    'gear_box_type', 'drive_wheels', 'wheel', 'color', 'doors']"
   ],
   "id": "7ac83a18ee4bc654",
   "outputs": [],
   "execution_count": 12
  },
  {
   "metadata": {
    "ExecuteTime": {
     "end_time": "2025-02-28T12:01:37.718129Z",
     "start_time": "2025-02-28T12:01:36.941759Z"
    }
   },
   "cell_type": "code",
   "source": "",
   "id": "6ad6c6277c74605c",
   "outputs": [
    {
     "data": {
      "text/plain": [
       "<Figure size 500x500 with 1 Axes>"
      ],
      "image/png": "[encoded data removed]"
     },
     "metadata": {},
     "output_type": "display_data"
    }
   ],
   "execution_count": 32
  },
  {
   "metadata": {},
   "cell_type": "code",
   "source": [
    "plt.figure(figsize = (20, 15))\n",
    "sns.countplot(y = df.manufacturer)\n",
    "plt.title(\"Car companies with their cars\", fontsize = 20)\n",
    "plt.show()"
   ],
   "id": "50f6b188c48312dd",
   "outputs": [],
   "execution_count": null
  },
  {
   "metadata": {},
   "cell_type": "markdown",
   "source": [
    "###  Numerical Variable Analysis\n",
    "\n",
    "#### Histograms for all numeric colums"
   ],
   "id": "6a9ceb70423bd05a"
  },
  {
   "metadata": {},
   "cell_type": "code",
   "source": [
    "# Histograms for all numeric columns\n",
    "df[numeric_cols].hist(bins=30, figsize=(20, 15))\n",
    "plt.suptitle('Histograms of Numeric Features', fontsize=16)\n",
    "plt.show()"
   ],
   "id": "1f4f01193693a7a0",
   "outputs": [],
   "execution_count": null
  },
  {
   "metadata": {},
   "cell_type": "markdown",
   "source": [
    "### 1. Production Year\n",
    "- The majority of the cars were produced after the year 2000, with a strong peak between 2010 and 2020.\n",
    "- There are very few cars from earlier decades, indicating that the dataset primarily consists of relatively new vehicles.\n",
    "\n",
    "### 2. Engine Volume\n",
    "- Most cars have an engine volume around 2.0L to 3.0L.\n",
    "- There are a few outliers with significantly larger engine volumes, possibly indicating luxury or high-performance vehicles.\n",
    "-\n",
    "### 3. Mileage\n",
    "- The distribution of mileage is right-skewed, meaning most cars in the dataset have relatively lower mileage.\n",
    "- The majority of vehicles have mileage values below 200,000 km, with the highest frequency occurring around the lower mileage range.\n",
    "- There are very few cars with extremely high mileage, suggesting that most listings include vehicles that are still in reasonable condition.\n",
    "- The data appears cleaner compared to the previous version, but further checks should be done to ensure there are no incorrect values or formatting issues.\n",
    "\n",
    "\n",
    "### 4. Cylinders\n",
    "- The majority of cars have 4-cylinder engines, which is standard for most vehicles.\n",
    "- There are smaller peaks at 6 and 8 cylinders, likely representing performance and luxury cars.\n",
    "\n",
    "### 5. Airbags\n",
    "- The most common number of airbags in the dataset appears to be 4 and 12.\n",
    "- There are some entries with 0 airbags, which might indicate older models or potential data errors.\n",
    "\n",
    "### 6. Price\n",
    "- The price distribution is highly skewed, with most cars having lower prices.\n",
    "- There are a few extreme outliers, possibly representing luxury or exotic cars.\n",
    "- Further outlier analysis and potential log transformation may help improve price predictions."
   ],
   "id": "1da007e0cf829111"
  },
  {
   "metadata": {},
   "cell_type": "markdown",
   "source": "#### Boxplot for Price",
   "id": "8f427c85651817ff"
  },
  {
   "metadata": {},
   "cell_type": "code",
   "source": [
    "# Boxplot for price to visualize outliers\n",
    "plt.figure()\n",
    "sns.boxplot(x=df['price'])\n",
    "plt.title(\"Boxplot of Price\")\n",
    "plt.xlabel(\"Price\")\n",
    "plt.show()"
   ],
   "id": "542c3262c5a4c730",
   "outputs": [],
   "execution_count": null
  },
  {
   "metadata": {},
   "cell_type": "markdown",
   "source": [
    "#### Price\n",
    "- The price distribution exhibits a significant number of outliers, with a large concentration of values on the lower end.\n",
    "- Most vehicle prices fall within a relatively small range, but there are extreme high-price outliers extending beyond 800,000.\n",
    "- The presence of these extreme values suggests that luxury or exotic cars are included in the dataset.\n",
    "- The distribution is highly skewed, which may impact model performance. Applying a logarithmic transformation or capping extreme values might improve price prediction accuracy.\n",
    "- Further investigation is needed to determine if these high prices are valid listings or potential data entry errors.\n"
   ],
   "id": "44239557e7be474e"
  },
  {
   "metadata": {},
   "cell_type": "markdown",
   "source": "### Average Price Per Manufacturer",
   "id": "c859fa569006e14"
  },
  {
   "metadata": {},
   "cell_type": "code",
   "outputs": [],
   "execution_count": null,
   "source": [
    "# Plot average price by manufacturer\n",
    "plt.figure(figsize=(20, 15))\n",
    "df.groupby('manufacturer')['price'].mean().sort_values(ascending=False).plot(kind='bar', color='black')\n",
    "plt.title(\"The average price of cars of different companies\", fontsize=20)\n",
    "plt.show()\n"
   ],
   "id": "94544a2e52f7387a"
  },
  {
   "metadata": {},
   "cell_type": "markdown",
   "source": "### Scatter plots for numeric features vs. Price",
   "id": "e553895fcea30eec"
  },
  {
   "metadata": {},
   "cell_type": "code",
   "source": [
    "for col in numeric_cols:\n",
    "    if col != 'price':\n",
    "        plt.figure()\n",
    "        sns.scatterplot(x=df[col], y=df['price'])\n",
    "        plt.title(f'Price vs. {col}')\n",
    "        plt.xlabel(col)\n",
    "        plt.ylabel(\"Price\")\n",
    "        plt.show()"
   ],
   "id": "9268e54788cd4bab",
   "outputs": [],
   "execution_count": null
  },
  {
   "metadata": {},
   "cell_type": "markdown",
   "source": [
    "## Bivariate Analysis: Price vs. Key Features\n",
    "\n",
    "### 1. Price vs. Production Year\n",
    "- Newer cars tend to have higher prices, with a noticeable upward trend in recent years.\n",
    "- There are a few older cars (pre-1980) with high prices, likely representing rare or classic models.\n",
    "- Most high-price listings are concentrated in vehicles produced after 2010.\n",
    "\n",
    "### 2. Price vs. Engine Volume\n",
    "- The majority of vehicles in the dataset have engine volumes below 5.0L.\n",
    "- Higher engine volumes do not necessarily correlate with higher prices, though some expensive cars have larger engines.\n",
    "- A few extreme values exist, particularly for vehicles with very high engine volumes.\n",
    "\n",
    "### 3. Price vs. Mileage\n",
    "- There is a strong negative correlation between mileage and price, with lower mileage cars generally having higher prices.\n",
    "- High-mileage cars tend to be lower in price, though there are exceptions where certain high-mileage vehicles still hold significant value.\n",
    "- Some outliers exist where low-mileage cars are listed at extreme prices.\n",
    "\n",
    "### 4. Price vs. Cylinders\n",
    "- Most vehicles in the dataset have 4-cylinder engines, with some high-price listings in this category.\n",
    "- Cars with 6, 8, and 12 cylinders tend to be more expensive, though there are exceptions.\n",
    "- The relationship between cylinders and price is not strictly linear, suggesting other factors influence price.\n",
    "\n",
    "### 5. Price vs. Airbags\n",
    "- The number of airbags varies significantly across the dataset.\n",
    "- More airbags do not always correlate with higher prices, though luxury vehicles often have more safety features.\n",
    "- Some high-price cars have relatively few airbags, possibly indicating classic or performance cars where safety is not the main priority.\n",
    "\n",
    "### Key Takeaways:\n",
    "- **Strong Correlations:** Price shows clear trends with production year (newer = higher price) and mileage (higher mileage = lower price).\n",
    "- **Weaker Correlations:** Features like engine volume, cylinders, and airbags impact price but with more\n"
   ],
   "id": "bea6438e80386690"
  },
  {
   "metadata": {},
   "cell_type": "markdown",
   "source": "### Categorical Variable Analysis",
   "id": "58c603f5eaef6a30"
  },
  {
   "metadata": {},
   "cell_type": "code",
   "source": [
    "# Analyze price distribution across some key categorical variables\n",
    "# For instance, examine 'manufacturer' for the top 10 manufacturers\n",
    "top_manufacturers = df['manufacturer'].value_counts().nlargest(10).index\n",
    "plt.figure()\n",
    "sns.boxplot(x='manufacturer', y='price', data=df[df['manufacturer'].isin(top_manufacturers)])\n",
    "plt.xticks(rotation=45)\n",
    "plt.title(\"Price Distribution for Top 10 Manufacturers\")\n",
    "plt.xlabel(\"Manufacturer\")\n",
    "plt.ylabel(\"Price\")\n",
    "plt.show()"
   ],
   "id": "de2bce78dd06ff4c",
   "outputs": [],
   "execution_count": null
  },
  {
   "metadata": {},
   "cell_type": "markdown",
   "source": [
    "## Price Distribution Across Top 10 Manufacturers\n",
    "\n",
    "- The boxplot shows significant variation in car prices across the top 10 manufacturers.\n",
    "- **Lexus, Mercedes-Benz, and BMW** tend to have higher median prices compared to other brands, indicating their position in the premium and luxury segment.\n",
    "- **Toyota, Hyundai, Honda, and Nissan** generally have lower median prices, aligning with their positioning as more affordable and mass-market brands.\n",
    "- **Mercedes-Benz and Lexus** show the widest price range, with several extreme outliers suggesting the presence of high-end or specialty models.\n",
    "- **All manufacturers have numerous outliers**, likely representing luxury, rare, or high-performance models that significantly exceed the standard price range.\n",
    "- The **overall price distribution is right-skewed**, reinforcing previous observations that most cars in the dataset are relatively affordable, but a small percentage command extremely high prices.\n",
    "\n"
   ],
   "id": "1ece410526176670"
  },
  {
   "metadata": {},
   "cell_type": "markdown",
   "source": "#### Barplot of Categorical Variables vs. Price",
   "id": "72c61eb5edadc610"
  },
  {
   "metadata": {},
   "cell_type": "code",
   "source": [
    "# Bar plots for average price by other categorical variables\n",
    "fig, axes = plt.subplots(nrows=(len(['fuel_type', 'gear_box_type', 'drive_wheels', 'color']) + 1) // 2, ncols=2, figsize=(14, 10))\n",
    "axes = axes.flatten()\n",
    "\n",
    "for i, col in enumerate(['fuel_type', 'gear_box_type', 'drive_wheels', 'color']):\n",
    "    sns.barplot(ax=axes[i], x=col, y='price', data=df, errorbar=None)\n",
    "    axes[i].tick_params(axis='x', rotation=45)\n",
    "    axes[i].set_title(f'Average Price by {col}')\n",
    "    axes[i].set_xlabel(col)\n",
    "    axes[i].set_ylabel(\"Average Price\")\n",
    "\n",
    "# Remove any empty subplots\n",
    "for j in range(i + 1, len(axes)):\n",
    "    fig.delaxes(axes[j])\n",
    "\n",
    "plt.tight_layout()\n",
    "plt.show()"
   ],
   "id": "f73535058204fc75",
   "outputs": [],
   "execution_count": null
  },
  {
   "metadata": {},
   "cell_type": "markdown",
   "source": [
    "## Price Analysis by Categorical Features\n",
    "\n",
    "### 1. Average Price by Fuel Type\n",
    "- **Diesel and Plug-in Hybrid vehicles** have the highest average prices, indicating they may be associated with newer or premium models.\n",
    "- **Hydrogen and Petrol cars** also show relatively high average prices\n",
    "- **CNG and LPG cars** have the lowest average prices, suggesting they are more common in budget-friendly or economy segments.\n",
    "\n",
    "### 2. Average Price by Gearbox Type\n",
    "- **Tiptronic gearboxes** are associated with the highest average prices, likely due to their prevalence in premium and high-performance vehicles.\n",
    "- **Automatic and Variator transmissions** also command higher prices, which aligns with the market preference for automatic transmissions in modern and luxury vehicles.\n",
    "- **Manual transmissions** have the lowest average price, reflecting their association with older or more affordable cars.\n",
    "\n",
    "### 3. Average Price by Drive Wheels\n",
    "- **4x4 vehicles** have the highest average price, which is expected as many SUVs, off-road, and premium vehicles feature this drivetrain.\n",
    "- **Rear-wheel drive (RWD) and Front-wheel drive (FWD) cars** have similar average prices, but FWD cars are generally associated with economy vehicles, while RWD is more common in performance and luxury cars.\n",
    "\n",
    "### 4. Average Price by Color\n",
    "- **Brown and Yellow vehicles** have the highest average prices, which may indicate they are associated with luxury or less common, high-end models.\n",
    "- **Black, White, and Grey cars** are among the most expensive, aligning with their popularity in premium and executive vehicles.\n",
    "- **Green and Purple cars** have the lowest average prices, possibly due to lower demand and their presence in older or budget-friendly models.\n",
    "\n",
    "### Key Insights:\n",
    "- Certain fuel types and gearboxes (e.g., Diesel, Plug-in Hybrid, Tiptronic) correlate with higher prices, indicating they may be key factors in price prediction.\n",
    "- Drive type also plays a role, with 4x4 vehicles being the most expensive.\n",
    "- Uncommon colors like Brown and Yellow show higher prices, possibly indicating niche or luxury models.\n",
    "- Further analysis is needed to determine if these patterns hold when controlling for other factors like manufacturer and model.\n",
    "\n"
   ],
   "id": "c4fb63774788ab76"
  },
  {
   "metadata": {},
   "cell_type": "markdown",
   "source": "### Correlation Analysis",
   "id": "f5a88cd0270cfee5"
  },
  {
   "metadata": {},
   "cell_type": "code",
   "source": [
    "# Compute correlation matrix for numeric features\n",
    "corr = df[numeric_cols].corr()\n",
    "\n",
    "# Heatmap of correlations\n",
    "plt.figure(figsize=(12, 10))\n",
    "sns.heatmap(corr, annot=True, cmap='coolwarm', fmt=\".2f\")\n",
    "plt.title(\"Correlation Matrix (Numeric Features)\")\n",
    "plt.show()"
   ],
   "id": "26b4351b3911ad9e",
   "outputs": [],
   "execution_count": null
  },
  {
   "metadata": {},
   "cell_type": "code",
   "source": [
    "# Print correlations with price (sorted)\n",
    "corr_target = corr['price'].sort_values(ascending=False)\n",
    "print(\"\\nCorrelation of Features with Price:\")\n",
    "print(corr_target)\n",
    "\n",
    "sns.lmplot(x = 'cylinders', y = 'engine_volume', scatter_kws = {\"s\": 40, \"alpha\": 0.2}, data = df)\n",
    "plt.title(\"Engine Cylinders vs Engine Volume\", fontsize = 15)\n",
    "plt.show()\n",
    "\n",
    "# Pairplot for numeric features\n",
    "sns.pairplot(df[numeric_cols])\n",
    "plt.suptitle(\"Pairplot of Numeric Features\", y=1.02)\n",
    "plt.show()\n",
    "\n"
   ],
   "id": "66a2fbaa702b3bf2",
   "outputs": [],
   "execution_count": null
  },
  {
   "metadata": {},
   "cell_type": "markdown",
   "source": [
    "## Correlation\n",
    "\n",
    "- **Production Year vs. Price (0.27):**\n",
    "  - There is a **moderate positive correlation**, suggesting newer cars tend to have higher prices.\n",
    "  - However, the correlation is not very strong, indicating other factors also influence price.\n",
    "\n",
    "- **Mileage vs. Price (-0.20):**\n",
    "  - A **weak negative correlation** exists, meaning higher mileage slightly reduces price.\n",
    "  - The impact of mileage on price is lower than expected, possibly due to missing variables like car condition or brand.\n",
    "\n",
    "- **Engine Volume vs. Price (0.13) and Cylinders vs. Price (0.10):**\n",
    "  - These weak positive correlations suggest that while larger engines and more cylinders slightly increase price, they are not major determinants.\n",
    "  - Engine volume and cylinders have a **strong internal correlation (0.78)**, meaning they often change together.\n",
    "\n",
    "- **Airbags vs. Price (-0.02, negligible correlation):**\n",
    "  - The number of airbags does not significantly impact car prices.\n",
    "\n",
    "- **Production Year vs. Price:**\n",
    "  - A clear **trend of increasing prices for newer cars** is visible.\n",
    "  - Older cars show lower prices, with exceptions for some classic or rare vehicles.\n",
    "\n",
    "- **Mileage vs. Price:**\n",
    "  - High-mileage cars tend to have lower prices, but there are several high-priced cars with high mileage, possibly indicating premium or collector models.\n",
    "\n",
    "- **Price Distribution:**\n",
    "  - The price variable is highly **right-skewed**, with most cars clustered at lower prices and a few extreme outliers.\n",
    "\n"
   ],
   "id": "7d4534af0592dd32"
  }
 ],
 "metadata": {
  "kernelspec": {
   "display_name": "Python 3",
   "language": "python",
   "name": "python3"
  },
  "language_info": {
   "codemirror_mode": {
    "name": "ipython",
    "version": 2
   },
   "file_extension": ".py",
   "mimetype": "text/x-python",
   "name": "python",
   "nbconvert_exporter": "python",
   "pygments_lexer": "ipython2",
   "version": "2.7.6"
  }
 },
 "nbformat": 4,
 "nbformat_minor": 5
}
