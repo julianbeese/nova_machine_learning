{
 "cells": [
  {
   "metadata": {
    "ExecuteTime": {
     "end_time": "2025-03-01T11:55:41.377377Z",
     "start_time": "2025-03-01T11:55:41.291433Z"
    }
   },
   "cell_type": "code",
   "source": [
    "import pandas as pd\n",
    "\n",
    "df_train = pd.read_csv('/Users/julianbeese/Developer/NOVA/nova_machine_learning/src/data/raw/test.csv')\n",
    "df_test = pd.read_csv('/Users/julianbeese/Developer/NOVA/nova_machine_learning/src/data/raw/train.csv')\n",
    "\n",
    "df_combined = pd.concat([df_train, df_test], ignore_index=True)\n",
    "df_combined.to_csv('/Users/julianbeese/Developer/NOVA/nova_machine_learning/src/data/processed/combined.csv', index=False)"
   ],
   "id": "4a659d5847ae9608",
   "outputs": [],
   "execution_count": 6
  }
 ],
 "metadata": {
  "kernelspec": {
   "name": "python3",
   "language": "python",
   "display_name": "Python 3 (ipykernel)"
  }
 },
 "nbformat": 5,
 "nbformat_minor": 9
}
